{
 "cells": [
  {
   "cell_type": "markdown",
   "metadata": {},
   "source": [
    "Machine Learning Lab 2\n",
    "======\n",
    "### Альромхин Джорж, гр.858301"
   ]
  },
  {
   "cell_type": "code",
   "execution_count": 65,
   "metadata": {},
   "outputs": [],
   "source": [
    "import numpy as np\n",
    "import pandas as pd\n",
    "import matplotlib.pyplot as plt\n",
    "import scipy.optimize as opt"
   ]
  },
  {
   "cell_type": "markdown",
   "metadata": {},
   "source": [
    "#### 1. Load Data"
   ]
  },
  {
   "cell_type": "code",
   "execution_count": 26,
   "metadata": {},
   "outputs": [
    {
     "data": {
      "text/html": [
       "<div>\n",
       "<style scoped>\n",
       "    .dataframe tbody tr th:only-of-type {\n",
       "        vertical-align: middle;\n",
       "    }\n",
       "\n",
       "    .dataframe tbody tr th {\n",
       "        vertical-align: top;\n",
       "    }\n",
       "\n",
       "    .dataframe thead th {\n",
       "        text-align: right;\n",
       "    }\n",
       "</style>\n",
       "<table border=\"1\" class=\"dataframe\">\n",
       "  <thead>\n",
       "    <tr style=\"text-align: right;\">\n",
       "      <th></th>\n",
       "      <th>grade1</th>\n",
       "      <th>grade2</th>\n",
       "      <th>accepted</th>\n",
       "    </tr>\n",
       "  </thead>\n",
       "  <tbody>\n",
       "    <tr>\n",
       "      <th>0</th>\n",
       "      <td>34.623660</td>\n",
       "      <td>78.024693</td>\n",
       "      <td>0.0</td>\n",
       "    </tr>\n",
       "    <tr>\n",
       "      <th>1</th>\n",
       "      <td>30.286711</td>\n",
       "      <td>43.894998</td>\n",
       "      <td>0.0</td>\n",
       "    </tr>\n",
       "    <tr>\n",
       "      <th>2</th>\n",
       "      <td>35.847409</td>\n",
       "      <td>72.902198</td>\n",
       "      <td>0.0</td>\n",
       "    </tr>\n",
       "    <tr>\n",
       "      <th>3</th>\n",
       "      <td>60.182599</td>\n",
       "      <td>86.308552</td>\n",
       "      <td>1.0</td>\n",
       "    </tr>\n",
       "    <tr>\n",
       "      <th>4</th>\n",
       "      <td>79.032736</td>\n",
       "      <td>75.344376</td>\n",
       "      <td>1.0</td>\n",
       "    </tr>\n",
       "  </tbody>\n",
       "</table>\n",
       "</div>"
      ],
      "text/plain": [
       "      grade1     grade2  accepted\n",
       "0  34.623660  78.024693       0.0\n",
       "1  30.286711  43.894998       0.0\n",
       "2  35.847409  72.902198       0.0\n",
       "3  60.182599  86.308552       1.0\n",
       "4  79.032736  75.344376       1.0"
      ]
     },
     "execution_count": 26,
     "metadata": {},
     "output_type": "execute_result"
    }
   ],
   "source": [
    "data_row1 = np.genfromtxt('../Data/lab2/ex2data1.txt', delimiter=',')\n",
    "data1 = pd.DataFrame(data_row1, columns=list(['grade1', 'grade2', 'accepted']))\n",
    "data1.head()"
   ]
  },
  {
   "cell_type": "markdown",
   "metadata": {},
   "source": [
    "#### 2. Build a graph where the axes are postponed grades in subjects, and the points are indicated by two different markers depending on whether the student entered the University or not."
   ]
  },
  {
   "cell_type": "code",
   "execution_count": 29,
   "metadata": {},
   "outputs": [
    {
     "data": {
      "text/plain": [
       "<Figure size 432x288 with 0 Axes>"
      ]
     },
     "metadata": {},
     "output_type": "display_data"
    },
    {
     "data": {
      "image/png": "[encoded data removed]",
      "text/plain": [
       "<Figure size 432x288 with 1 Axes>"
      ]
     },
     "metadata": {
      "needs_background": "light"
     },
     "output_type": "display_data"
    }
   ],
   "source": [
    "plt.figure()\n",
    "ax = data1.loc[data1.accepted == 1].plot(x='grade1', y='grade2', style=['b.'], label='accepted')\n",
    "data1.loc[data1.accepted == 0].plot(x='grade1', y='grade2', style=['r.'], label='not accepted', ax=ax)\n",
    "plt.show()"
   ]
  },
  {
   "cell_type": "markdown",
   "metadata": {},
   "source": [
    "#### 3.Implement loss functions J(θ) and gradient descent for logistic regression using vectorization.\n"
   ]
  },
  {
   "cell_type": "code",
   "execution_count": 30,
   "metadata": {},
   "outputs": [],
   "source": [
    "def sigmoid(X):\n",
    "   return 1/(1+np.exp(-X))"
   ]
  },
  {
   "cell_type": "code",
   "execution_count": 31,
   "metadata": {},
   "outputs": [],
   "source": [
    "def cost_function(theta, X, y):\n",
    "    m = y.size\n",
    "    h = sigmoid(X @ theta)\n",
    "    J = (-1 / m) * ((y.T @ np.log(h)) + ((1-y).T @ np.log(1-h)))\n",
    "    error = h - y\n",
    "    grad = (1 / m) * (X.T @ error)\n",
    "    return J, grad"
   ]
  },
  {
   "cell_type": "code",
   "execution_count": 67,
   "metadata": {},
   "outputs": [
    {
     "name": "stdout",
     "output_type": "stream",
     "text": [
      "cost at initial theta (zeros): 0.6931471805599452\n",
      "gradient at initial theta (zeros): [ -0.1        -12.00921659 -11.26284221]\n"
     ]
    }
   ],
   "source": [
    "m, n = data1.shape\n",
    "X = data1[['grade1', 'grade2']]\n",
    "X.insert(0, 'theta_0', 1)\n",
    "X = X.to_numpy()\n",
    "y = data1['accepted']\n",
    "initial_theta = np.zeros(n)\n",
    "cost, grad = cost_function(initial_theta, X, y)\n",
    "print('cost at initial theta (zeros):',cost)\n",
    "print('gradient at initial theta (zeros):',grad)"
   ]
  },
  {
   "cell_type": "markdown",
   "metadata": {},
   "source": [
    "#### 4.Implement other optimization methods (at least 2) for the implemented value function (e.g. Nelder-Mead Method, Broyden — Fletcher — Goldfarb — Shanno Algorithm, genetic methods, etc.). It is allowed to use library implementations of optimization methods (for example, from the scipy library)."
   ]
  },
  {
   "cell_type": "code",
   "execution_count": 70,
   "metadata": {},
   "outputs": [],
   "source": [
    "def cost_optimize(theta, X, y):\n",
    "    cost, _ = cost_function(theta, X, y)\n",
    "    return cost\n",
    "\n",
    "def gradient_optimize(theta, X, y):\n",
    "    _, grad = cost_function(theta, X, y)\n",
    "    return grad\n",
    "\n",
    "def optimize(func, gradient, X, y, method):\n",
    "    initial_theta = np.zeros(n)\n",
    "    \n",
    "    result = opt.minimize(fun=func, x0=initial_theta, args=(X, y), method=method, jac=gradient)\n",
    "    theta = result.x\n",
    "    cost = func(theta, X, y)\n",
    "    \n",
    "    print(f'theta:\\t{theta.ravel()}\\ncost:\\t{cost}')\n",
    "    return result\n"
   ]
  },
  {
   "cell_type": "markdown",
   "metadata": {},
   "source": [
    "#### Optimization using gradient information in a truncated Newton algorithm"
   ]
  },
  {
   "cell_type": "code",
   "execution_count": 71,
   "metadata": {},
   "outputs": [
    {
     "name": "stdout",
     "output_type": "stream",
     "text": [
      "theta:\t[-25.16131854   0.20623159   0.20147149]\n",
      "cost:\t0.20349770158947494\n"
     ]
    },
    {
     "data": {
      "text/plain": [
       "     fun: 0.20349770158947494\n",
       "     jac: array([9.00038139e-09, 8.52696398e-08, 4.75764761e-07])\n",
       " message: 'Local minimum reached (|pg| ~= 0)'\n",
       "    nfev: 36\n",
       "     nit: 17\n",
       "  status: 0\n",
       " success: True\n",
       "       x: array([-25.16131854,   0.20623159,   0.20147149])"
      ]
     },
     "execution_count": 71,
     "metadata": {},
     "output_type": "execute_result"
    }
   ],
   "source": [
    "res = optimize(cost_optimize, gradient_optimize, X, y, 'TNC')\n",
    "res"
   ]
  },
  {
   "cell_type": "markdown",
   "metadata": {},
   "source": [
    "#### Unconstrained minimization of a function using the Newton-CG method"
   ]
  },
  {
   "cell_type": "code",
   "execution_count": 73,
   "metadata": {},
   "outputs": [
    {
     "name": "stdout",
     "output_type": "stream",
     "text": [
      "theta:\t[-25.16076473   0.20622705   0.20146712]\n",
      "cost:\t0.20349770163804756\n"
     ]
    },
    {
     "data": {
      "text/plain": [
       "     fun: 0.20349770163804756\n",
       "     jac: array([-3.71475306e-06, -2.50437739e-04, -2.32431480e-04])\n",
       " message: 'Optimization terminated successfully.'\n",
       "    nfev: 72\n",
       "    nhev: 0\n",
       "     nit: 29\n",
       "    njev: 258\n",
       "  status: 0\n",
       " success: True\n",
       "       x: array([-25.16076473,   0.20622705,   0.20146712])"
      ]
     },
     "execution_count": 73,
     "metadata": {},
     "output_type": "execute_result"
    }
   ],
   "source": [
    "result = optimize(cost_optimize, gradient_optimize, X, y, 'Newton-CG')\n",
    "result"
   ]
  },
  {
   "cell_type": "markdown",
   "metadata": {},
   "source": [
    "#### Implement the function of predicting the probability of a student's admission depending on the values of the exam scores."
   ]
  },
  {
   "cell_type": "code",
   "execution_count": 74,
   "metadata": {},
   "outputs": [
    {
     "name": "stdout",
     "output_type": "stream",
     "text": [
      "For a student with scores 45 and 85, we predict an admission probability of 0.7762868655447364\n"
     ]
    }
   ],
   "source": [
    "def predict(theta, X):\n",
    "    predict = sigmoid(np.dot(X, theta))\n",
    "    return predict > 0.5\n",
    "\n",
    "theta = result.x\n",
    "prob = sigmoid(np.array([1, 45, 85]) @ theta)\n",
    "print(f'For a student with scores 45 and 85, we predict an admission probability of {prob}')"
   ]
  },
  {
   "cell_type": "code",
   "execution_count": 75,
   "metadata": {},
   "outputs": [
    {
     "name": "stdout",
     "output_type": "stream",
     "text": [
      "Train Accuracy: 89.000000\n"
     ]
    }
   ],
   "source": [
    "p = predict(np.array(theta), X)\n",
    "print('Train Accuracy: %f' % ((y[p == y].size / float(y.size)) * 100.0))"
   ]
  },
  {
   "cell_type": "markdown",
   "metadata": {},
   "source": [
    "#### Build a dividing line obtained as a result of training the model. Align the line with the graph from point 2.\n"
   ]
  },
  {
   "cell_type": "code",
   "execution_count": 77,
   "metadata": {},
   "outputs": [
    {
     "data": {
      "text/plain": [
       "<Figure size 432x288 with 0 Axes>"
      ]
     },
     "metadata": {},
     "output_type": "display_data"
    },
    {
     "data": {
      "image/png": "[encoded data removed]",
      "text/plain": [
       "<Figure size 432x288 with 1 Axes>"
      ]
     },
     "metadata": {
      "needs_background": "light"
     },
     "output_type": "display_data"
    }
   ],
   "source": [
    "plt.figure()\n",
    "ax = data1.loc[data1.accepted == 1].plot(x='grade1', y='grade2', style=['r.'], label='accepted')\n",
    "data1.loc[data1.accepted == 0].plot(x='grade1', y='grade2', style=['b.'], label='not accepted', ax=ax)\n",
    "slope = -(theta[1] / theta[2])\n",
    "intercept = -(theta[0] / theta[2])\n",
    "x_vals = np.array(ax.get_xlim())\n",
    "y_vals = intercept + (slope * x_vals)\n",
    "plt.plot(x_vals, y_vals, c=\"k\");\n",
    "plt.show()"
   ]
  },
  {
   "cell_type": "markdown",
   "metadata": {},
   "source": [
    "### Laod data2"
   ]
  },
  {
   "cell_type": "code",
   "execution_count": 79,
   "metadata": {},
   "outputs": [
    {
     "data": {
      "text/html": [
       "<div>\n",
       "<style scoped>\n",
       "    .dataframe tbody tr th:only-of-type {\n",
       "        vertical-align: middle;\n",
       "    }\n",
       "\n",
       "    .dataframe tbody tr th {\n",
       "        vertical-align: top;\n",
       "    }\n",
       "\n",
       "    .dataframe thead th {\n",
       "        text-align: right;\n",
       "    }\n",
       "</style>\n",
       "<table border=\"1\" class=\"dataframe\">\n",
       "  <thead>\n",
       "    <tr style=\"text-align: right;\">\n",
       "      <th></th>\n",
       "      <th>test1</th>\n",
       "      <th>test2</th>\n",
       "      <th>accepted</th>\n",
       "    </tr>\n",
       "  </thead>\n",
       "  <tbody>\n",
       "    <tr>\n",
       "      <th>0</th>\n",
       "      <td>0.051267</td>\n",
       "      <td>0.69956</td>\n",
       "      <td>1.0</td>\n",
       "    </tr>\n",
       "    <tr>\n",
       "      <th>1</th>\n",
       "      <td>-0.092742</td>\n",
       "      <td>0.68494</td>\n",
       "      <td>1.0</td>\n",
       "    </tr>\n",
       "    <tr>\n",
       "      <th>2</th>\n",
       "      <td>-0.213710</td>\n",
       "      <td>0.69225</td>\n",
       "      <td>1.0</td>\n",
       "    </tr>\n",
       "    <tr>\n",
       "      <th>3</th>\n",
       "      <td>-0.375000</td>\n",
       "      <td>0.50219</td>\n",
       "      <td>1.0</td>\n",
       "    </tr>\n",
       "    <tr>\n",
       "      <th>4</th>\n",
       "      <td>-0.513250</td>\n",
       "      <td>0.46564</td>\n",
       "      <td>1.0</td>\n",
       "    </tr>\n",
       "  </tbody>\n",
       "</table>\n",
       "</div>"
      ],
      "text/plain": [
       "      test1    test2  accepted\n",
       "0  0.051267  0.69956       1.0\n",
       "1 -0.092742  0.68494       1.0\n",
       "2 -0.213710  0.69225       1.0\n",
       "3 -0.375000  0.50219       1.0\n",
       "4 -0.513250  0.46564       1.0"
      ]
     },
     "execution_count": 79,
     "metadata": {},
     "output_type": "execute_result"
    }
   ],
   "source": [
    "data_row2 = np.genfromtxt('../Data/lab2/ex2data2.txt', delimiter=',')\n",
    "data2 = pd.DataFrame(data_row2, columns=list(['test1', 'test2', 'accepted']))\n",
    "data2.head()"
   ]
  },
  {
   "cell_type": "markdown",
   "metadata": {},
   "source": [
    "### Build a graph where the test results are deferred along the axes, and the points are indicated by two different markers, depending on whether the product has passed the control or not."
   ]
  },
  {
   "cell_type": "code",
   "execution_count": 80,
   "metadata": {},
   "outputs": [
    {
     "data": {
      "text/plain": [
       "<Figure size 432x288 with 0 Axes>"
      ]
     },
     "metadata": {},
     "output_type": "display_data"
    },
    {
     "data": {
      "image/png": "[encoded data removed]",
      "text/plain": [
       "<Figure size 432x288 with 1 Axes>"
      ]
     },
     "metadata": {
      "needs_background": "light"
     },
     "output_type": "display_data"
    }
   ],
   "source": [
    "plt.figure()\n",
    "ax = data2.loc[data2.accepted == 1].plot(x='test1', y='test2', style=['r.'], label='accepted')\n",
    "data2.loc[data2.accepted == 0].plot(x='test1', y='test2', style=['b.'], label='rejected', ax=ax)\n",
    "ax.set_ylabel('Test 2')\n",
    "ax.set_xlabel('Test 1')\n",
    "plt.show()"
   ]
  },
  {
   "cell_type": "markdown",
   "metadata": {},
   "source": [
    "### Construct all possible combinations of features x1 (the result of the first test) and x2 (the result of the second test) in which the degree of the polynomial does not exceed 6, i.e. 1, x1, x2, x12, x1x2, x22,..., x1x25, x26 (28 combinations in total)."
   ]
  },
  {
   "cell_type": "code",
   "execution_count": 85,
   "metadata": {},
   "outputs": [],
   "source": [
    "def map_feature(x1, x2):\n",
    "    '''\n",
    "    Maps the two input features to quadratic features.\n",
    "    Returns a new feature array with more features, comprising of\n",
    "    X1, X2, X1 ** 2, X2 ** 2, X1*X2, X1*X2 ** 2, etc...\n",
    "    Inputs X1, X2 must be the same size\n",
    "    '''\n",
    "    x1.shape = (x1.size, 1)\n",
    "    x2.shape = (x2.size, 1)\n",
    "    degree = 6\n",
    "    out = np.ones(shape=(x1[:, 0].size, 1))\n",
    "\n",
    "    m, n = out.shape\n",
    "\n",
    "    for i in range(1, degree + 1):\n",
    "        for j in range(i + 1):\n",
    "            r = (x1 ** (i - j)) * (x2 ** j)\n",
    "            out = np.append(out, r, axis=1)\n",
    "\n",
    "    return out\n",
    "\n",
    "mapped = map_feature(data2['test1'].to_numpy(), data2['test2'].to_numpy())"
   ]
  },
  {
   "cell_type": "markdown",
   "metadata": {},
   "source": [
    "### Implement L2 regularization for logistic regression and train it on an extended feature set by gradient descent.\n"
   ]
  },
  {
   "cell_type": "code",
   "execution_count": 113,
   "metadata": {},
   "outputs": [],
   "source": [
    "def cost_function_reg(theta, X, y, l):\n",
    "    '''Compute the cost and partial derivatives as grads\n",
    "    '''\n",
    "\n",
    "    h = sigmoid(X.dot(theta))\n",
    "\n",
    "    thetaR = theta[1:, 0]\n",
    "\n",
    "    J = (-1.0 / m) * ((y.T @ np.log(h)) + ((1 - y.T) @ np.log(1.0 - h))) + (l / (2.0 * m)) * (thetaR.T @ thetaR)\n",
    "\n",
    "    y.shape = h.shape\n",
    "    delta = h - y\n",
    "    sumdelta = delta.T @ X[:, 1]\n",
    "    grad1 = (1.0 / m) * sumdelta\n",
    "\n",
    "    XR = X[:, 1:X.shape[1]]\n",
    "    sumdelta = delta.T @ XR\n",
    "\n",
    "    grad = (1.0 / m) * (sumdelta + l * thetaR)\n",
    "\n",
    "    out = np.zeros(shape=(grad.shape[0], grad.shape[1] + 1))\n",
    "\n",
    "    out[:, 0] = grad1\n",
    "    out[:, 1:] = grad\n",
    "\n",
    "    return J.flatten(), out.T.flatten()\n",
    "\n",
    "def gradient_descent(X, y, theta, l, alpha, num_iters):\n",
    "    m = y.shape[0]  # Size of training set\n",
    "    j_history = []\n",
    "    for i in range(0, num_iters):\n",
    "        cost, grad = cost_function_reg(theta, X, y, l)\n",
    "        grad.shape = theta.shape\n",
    "        theta -= alpha * grad\n",
    "        j_history.append(cost)\n",
    "\n",
    "    return theta, j_history\n",
    "\n",
    "m, n = data2.shape\n",
    "y = data2['accepted'].to_numpy()\n",
    "y.shape = (m, 1)\n",
    "initial_theta = np.zeros(shape=(mapped.shape[1], 1))\n",
    "#Set regularization parameter lambda to 1\n",
    "l = 1\n",
    "gd_theta, costs = gradient_descent(mapped, y, initial_theta, l, 0.2, 400)\n",
    "\n"
   ]
  },
  {
   "cell_type": "markdown",
   "metadata": {},
   "source": [
    "### Implement other optimization methods.\n"
   ]
  },
  {
   "cell_type": "code",
   "execution_count": 114,
   "metadata": {},
   "outputs": [],
   "source": [
    "def cost_decorator(theta, X, y):\n",
    "    theta.shape = (mapped.shape[1], 1)\n",
    "    cost, _ = cost_function_reg(theta, X, y, l)\n",
    "    theta.shape = (mapped.shape[1],)\n",
    "    return cost\n",
    "\n",
    "\n",
    "def gradient_decorator(theta, X, y):\n",
    "    theta.shape = (mapped.shape[1], 1)\n",
    "    _, grad = cost_function_reg(theta, X, y, l)\n",
    "    theta.shape = (mapped.shape[1],)\n",
    "    return grad\n",
    "\n",
    "initial_theta = np.zeros((mapped.shape[1], ))\n",
    "result = opt.minimize(fun=cost_decorator, x0=initial_theta, args=(mapped, y), method='BFGS', jac=gradient_decorator)\n",
    "bfgs_theta = result.x"
   ]
  },
  {
   "cell_type": "markdown",
   "metadata": {},
   "source": [
    "### Implement the function of predicting the probability of passing the control of the product depending on the test results.\n"
   ]
  },
  {
   "cell_type": "code",
   "execution_count": 115,
   "metadata": {},
   "outputs": [
    {
     "name": "stdout",
     "output_type": "stream",
     "text": [
      "Train Accuracy with gradient descent: 80.508475\n",
      "Train Accuracy using the BFGS algorithm: 83.898305\n"
     ]
    }
   ],
   "source": [
    "p = predict(np.array(gd_theta), mapped)\n",
    "print('Train Accuracy with gradient descent: %f' % ((y[p == y].size / float(y.size)) * 100.0))\n",
    "p = predict(np.array(bfgs_theta), mapped)\n",
    "p.shape = y.shape\n",
    "print('Train Accuracy using the BFGS algorithm: %f' % ((y[p == y].size / float(y.size)) * 100.0))"
   ]
  },
  {
   "cell_type": "markdown",
   "metadata": {},
   "source": [
    "#### Try different values of the regularization parameter λ. How does the choice of this value affect the appearance of the separating curve? Give the answer in the form of graphs.\n"
   ]
  },
  {
   "cell_type": "code",
   "execution_count": 117,
   "metadata": {},
   "outputs": [
    {
     "data": {
      "text/plain": [
       "<Figure size 432x288 with 0 Axes>"
      ]
     },
     "metadata": {},
     "output_type": "display_data"
    },
    {
     "data": {
      "image/png": "[encoded data removed]",
      "text/plain": [
       "<Figure size 432x288 with 1 Axes>"
      ]
     },
     "metadata": {
      "needs_background": "light"
     },
     "output_type": "display_data"
    }
   ],
   "source": [
    "def train_with_plot(l):\n",
    "    \n",
    "    def plot(theta):\n",
    "        u = np.linspace(-1, 1.5, 50)\n",
    "        v = np.linspace(-1, 1.5, 50)\n",
    "        z = np.zeros(shape=(len(u), len(v)))\n",
    "        for i in range(len(u)):\n",
    "            for j in range(len(v)):\n",
    "                z[i, j] = (map_feature(np.array(u[i]), np.array(v[j])).dot(np.array(theta)))\n",
    "\n",
    "        z = z.T\n",
    "        plt.figure()\n",
    "        ax = data2.loc[data2.accepted == 1].plot(x='test1', y='test2', style=['r.'], label='accepted')\n",
    "        data2.loc[data2.accepted == 0].plot(x='test1', y='test2', style=['b.'], label='rejected', ax=ax)\n",
    "        ax.contour(u, v, z)\n",
    "        ax.set_ylabel('Test 2')\n",
    "        ax.set_xlabel('Test 1')\n",
    "        plt.title(f'lambda = {l}')\n",
    "        plt.show()\n",
    "        \n",
    "    initial_theta = np.zeros(shape=(mapped.shape[1], 1))\n",
    "    theta, _ = gradient_descent(mapped, y, initial_theta, l, 0.2, 1000)\n",
    "    data2 = pd.DataFrame(data_row2, columns=list(['test1', 'test2', 'accepted']))\n",
    "\n",
    "    plot(theta)\n",
    "    \n",
    "train_with_plot(0)\n",
    "    "
   ]
  },
  {
   "cell_type": "code",
   "execution_count": 118,
   "metadata": {},
   "outputs": [
    {
     "data": {
      "text/plain": [
       "<Figure size 432x288 with 0 Axes>"
      ]
     },
     "metadata": {},
     "output_type": "display_data"
    },
    {
     "data": {
      "image/png": "[encoded data removed]",
      "text/plain": [
       "<Figure size 432x288 with 1 Axes>"
      ]
     },
     "metadata": {
      "needs_background": "light"
     },
     "output_type": "display_data"
    }
   ],
   "source": [
    "train_with_plot(100)"
   ]
  },
  {
   "cell_type": "markdown",
   "metadata": {},
   "source": [
    "### load data3"
   ]
  },
  {
   "cell_type": "code",
   "execution_count": 106,
   "metadata": {},
   "outputs": [],
   "source": [
    "import scipy.io\n",
    "\n",
    "data3 = scipy.io.loadmat('../Data/lab2/ex2data3.mat')\n",
    "x = np.array(data3['X'])\n",
    "y = np.squeeze(data3['y'])\n",
    "np.place(y, y == 10, 0)\n",
    "n = x.shape[1]\n",
    "m = x.shape[0]\n",
    "labels_count = 10"
   ]
  },
  {
   "cell_type": "markdown",
   "metadata": {},
   "source": [
    "#### Visualize multiple random images from a dataset. The visualization must contain each digit at least once."
   ]
  },
  {
   "cell_type": "code",
   "execution_count": 120,
   "metadata": {},
   "outputs": [
    {
     "data": {
      "image/png": "[encoded data removed]",
      "text/plain": [
       "<Figure size 576x576 with 64 Axes>"
      ]
     },
     "metadata": {},
     "output_type": "display_data"
    }
   ],
   "source": [
    "import matplotlib.image as mpimg\n",
    "\n",
    "subplots = 64\n",
    "draw_seed = np.random.randint(low=0, high=x.shape[0], size=subplots)\n",
    "draw_rows = x[draw_seed]\n",
    "fig, ax = plt.subplots(8, 8, figsize=(8, 8))\n",
    "for i, axi in enumerate(ax.flat):\n",
    "    data = np.reshape(draw_rows[i], (20, 20), order='F')\n",
    "    axi.imshow(data, cmap='binary')\n",
    "    axi.set(xticks=[], yticks=[])\n",
    "\n",
    "plt.show()"
   ]
  },
  {
   "cell_type": "markdown",
   "metadata": {},
   "source": [
    "#### Implement a binary classifier using logistic regression using vectorization (loss function and gradient descent).\n",
    "#### Add L2 regularization to the model.\n",
    "#### Implement a one-versus-all multi-class classification."
   ]
  },
  {
   "cell_type": "markdown",
   "metadata": {},
   "source": [
    "#### Implement the class prediction function on the image using trained classifiers."
   ]
  },
  {
   "cell_type": "code",
   "execution_count": null,
   "metadata": {},
   "outputs": [],
   "source": [
    "X = np.ones(shape=(x.shape[0], x.shape[1] + 1))\n",
    "X[:, 1:] = x\n",
    "classifiers = np.zeros(shape=(labels_count, n + 1))\n",
    "for i in range(0, labels_count):\n",
    "    label = (y == i).astype(int)\n",
    "    initial_theta = np.zeros(shape=(X.shape[1], 1))\n",
    "    theta, costs = gradient_descent(X, label, initial_theta, 0.4, 2.8, 10000)\n",
    "    classifiers[i, :] = np.squeeze(theta)"
   ]
  },
  {
   "cell_type": "code",
   "execution_count": null,
   "metadata": {},
   "outputs": [],
   "source": [
    "def predict_class(input, classifiers):\n",
    "    class_probs = sigmoid(input @ classifiers.transpose())\n",
    "    if len(class_probs.shape) == 1:\n",
    "        class_probs.shape = (1, class_probs.shape[0])\n",
    "    predictions = class_probs.argmax(axis=1)\n",
    "    return predictions"
   ]
  },
  {
   "cell_type": "markdown",
   "metadata": {},
   "source": [
    "#### The percentage of correct classifications in the training sample should be about 95%.\n"
   ]
  },
  {
   "cell_type": "code",
   "execution_count": 229,
   "metadata": {},
   "outputs": [
    {
     "name": "stdout",
     "output_type": "stream",
     "text": [
      "Training accuracy: 94.74000000000001\n"
     ]
    }
   ],
   "source": [
    "predictions = predict_class(X, classifiers)\n",
    "print(f'Training accuracy: {str(100 * np.mean(predictions == y))}')"
   ]
  }
 ],
 "metadata": {
  "kernelspec": {
   "display_name": "Python 3",
   "language": "python",
   "name": "python3"
  },
  "language_info": {
   "codemirror_mode": {
    "name": "ipython",
    "version": 3
   },
   "file_extension": ".py",
   "mimetype": "text/x-python",
   "name": "python",
   "nbconvert_exporter": "python",
   "pygments_lexer": "ipython3",
   "version": "3.6.9"
  }
 },
 "nbformat": 4,
 "nbformat_minor": 4
}
