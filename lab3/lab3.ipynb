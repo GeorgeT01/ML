{
 "cells": [
  {
   "cell_type": "markdown",
   "metadata": {},
   "source": [
    "Machine Learning Lab 3\n",
    "======\n",
    "### Альромхин Джорж, гр.858301"
   ]
  },
  {
   "cell_type": "markdown",
   "metadata": {},
   "source": [
    "#### Load Data"
   ]
  },
  {
   "cell_type": "code",
   "execution_count": 1,
   "metadata": {},
   "outputs": [],
   "source": [
    "import numpy as np\n",
    "import pandas as pd\n",
    "import matplotlib.pyplot as plt\n",
    "import scipy.io"
   ]
  },
  {
   "cell_type": "code",
   "execution_count": 2,
   "metadata": {},
   "outputs": [],
   "source": [
    "data = scipy.io.loadmat('../Data/lab3/ex3data1.mat')\n",
    "x = np.array(data['X'])\n",
    "y = np.squeeze(data['y'])\n",
    "X = np.insert(x, 0, 1, axis=1)"
   ]
  },
  {
   "cell_type": "markdown",
   "metadata": {},
   "source": [
    "#### Plot the x and y axes of the training sample."
   ]
  },
  {
   "cell_type": "code",
   "execution_count": 3,
   "metadata": {},
   "outputs": [
    {
     "data": {
      "image/png": "[encoded data removed]",
      "text/plain": [
       "<Figure size 432x288 with 1 Axes>"
      ]
     },
     "metadata": {
      "needs_background": "light"
     },
     "output_type": "display_data"
    }
   ],
   "source": [
    "plt.figure()\n",
    "plt.scatter(x.flatten(), y)\n",
    "plt.xlabel('x')\n",
    "plt.ylabel('y')\n",
    "plt.show()"
   ]
  },
  {
   "cell_type": "markdown",
   "metadata": {},
   "source": [
    "#### Implement the loss cost function for linear regression with L2 regularization."
   ]
  },
  {
   "cell_type": "code",
   "execution_count": 4,
   "metadata": {},
   "outputs": [],
   "source": [
    "def compute_cost_reg(X, y, theta, l = 1):\n",
    "    m = y.shape[0]\n",
    "    h = X.dot(theta)\n",
    "    loss = h - y\n",
    "    cost = np.sum(loss ** 2) / (2 * m) + (l / (2*m)) * np.sum(np.square(theta))\n",
    "    return cost, loss"
   ]
  },
  {
   "cell_type": "code",
   "execution_count": 5,
   "metadata": {},
   "outputs": [
    {
     "data": {
      "text/plain": [
       "(140.95412088055392,\n",
       " array([ -2.13431051,  -1.17325668, -34.35910918, -36.83795516,\n",
       "         -2.80896507,  -2.12107248, -14.71026831,  -2.61418439,\n",
       "         -3.74017167,  -3.73169131,  -7.62765885, -22.7524283 ]))"
      ]
     },
     "execution_count": 5,
     "metadata": {},
     "output_type": "execute_result"
    }
   ],
   "source": [
    "initial_theta = np.zeros(X.shape[1])\n",
    "compute_cost_reg(X, y, initial_theta)"
   ]
  },
  {
   "cell_type": "markdown",
   "metadata": {},
   "source": [
    "#### Implement the gradient descent function for linear regression with L2 regularization."
   ]
  },
  {
   "cell_type": "code",
   "execution_count": 7,
   "metadata": {},
   "outputs": [],
   "source": [
    "def gradient_descent_reg(X, y, theta, l, alpha, num_iters):\n",
    "    m = y.shape[0]  # Size of training set\n",
    "    j_history = []\n",
    "    XT = X.T\n",
    "    for i in range(0, num_iters):\n",
    "        cost, loss = compute_cost_reg(X, y, theta, l)\n",
    "        gradient = (XT.dot(loss) + l * theta) / m\n",
    "        theta -= alpha * gradient\n",
    "        j_history.append(cost)\n",
    "\n",
    "    return theta, j_history"
   ]
  },
  {
   "cell_type": "code",
   "execution_count": 16,
   "metadata": {},
   "outputs": [
    {
     "name": "stdout",
     "output_type": "stream",
     "text": [
      "GradDesc cost = 29.695375543493455 and theta:\n",
      "[10.86601315  0.35442522]\n"
     ]
    }
   ],
   "source": [
    "initial_theta = np.zeros(X.shape[1])\n",
    "theta, costs = gradient_descent_reg(X, y, initial_theta, l=1, alpha=0.0022, num_iters=1000)\n",
    "print(f'GradDesc cost = {costs[-1]} and theta:\\n{theta}')"
   ]
  },
  {
   "cell_type": "markdown",
   "metadata": {},
   "source": [
    "#### Construct a linear regression model with a regularization coefficient of 0 and plot the resulting function together with the graph from point 2. Why regularization in this case will not work?\n"
   ]
  },
  {
   "cell_type": "code",
   "execution_count": 8,
   "metadata": {},
   "outputs": [
    {
     "data": {
      "image/png": "[encoded data removed]",
      "text/plain": [
       "<Figure size 432x288 with 1 Axes>"
      ]
     },
     "metadata": {
      "needs_background": "light"
     },
     "output_type": "display_data"
    }
   ],
   "source": [
    "initial_theta = np.zeros(X.shape[1])\n",
    "theta, _ = gradient_descent_reg(X, y, initial_theta, l=0, alpha=0.0022, num_iters=1000)\n",
    "h = X.dot(theta)\n",
    "plt.figure()\n",
    "plt.scatter(x.flatten(), y, label='Dataset')\n",
    "plt.plot(x.flatten(), h, label='H')\n",
    "plt.xlabel('x')\n",
    "plt.ylabel('y')\n",
    "plt.show()"
   ]
  },
  {
   "cell_type": "markdown",
   "metadata": {},
   "source": [
    "Regularization does not work because, at the coefficient l = 0, no changes are made to the original loss cost function and gradient descent, this follows from the calculations, additional regularization parameters turn to zero.\n"
   ]
  },
  {
   "cell_type": "markdown",
   "metadata": {},
   "source": [
    "#### Plot the learning curves for the training and validation sample. The abscissa axis plots the number of elements from the training sample, and the ordinate axis plots the error (loss function value) for the training sample (first curve) and the validation sample (second curve). What conclusion can be drawn from the constructed schedule?\n"
   ]
  },
  {
   "cell_type": "code",
   "execution_count": 9,
   "metadata": {},
   "outputs": [],
   "source": [
    "def train(x_train, x_val, y_train, y_val):\n",
    "    X = np.insert(x_train, 0, 1, axis=1)\n",
    "    initial_theta = np.zeros(X.shape[1])\n",
    "    theta, train_costs = gradient_descent_reg(X, y_train, initial_theta, l=0, alpha=0.0005, num_iters=1000)\n",
    "    X_val = np.insert(x_val, 0, 1, axis=1)\n",
    "    val_cost = compute_cost_reg(X_val, y_val, theta, l=0)\n",
    "    return train_costs[-1], val_cost[0]\n",
    "\n",
    "\n",
    "def plot_learning_curves(x_train, x_val, y_train, y_val):\n",
    "    m, n = x_train.shape\n",
    "    train_costs = []\n",
    "    val_costs = []\n",
    "    for size in range(4 , m):\n",
    "        inds = range(0, size)\n",
    "        t, v = train(x_train[inds, :], x_val[inds, :], y_train[inds], y_val[inds])\n",
    "        train_costs.append(t)\n",
    "        val_costs.append(v)\n",
    "\n",
    "    plt.figure()\n",
    "    plt.plot(train_costs, 'b')\n",
    "    plt.plot(val_costs, 'r')\n",
    "    plt.show()"
   ]
  },
  {
   "cell_type": "code",
   "execution_count": 10,
   "metadata": {},
   "outputs": [
    {
     "data": {
      "image/png": "[encoded data removed]",
      "text/plain": [
       "<Figure size 432x288 with 1 Axes>"
      ]
     },
     "metadata": {
      "needs_background": "light"
     },
     "output_type": "display_data"
    }
   ],
   "source": [
    "x_val = data['Xval']\n",
    "y_val = np.squeeze(data['yval'])\n",
    "plot_learning_curves(x, x_val, y, y_val)"
   ]
  },
  {
   "cell_type": "markdown",
   "metadata": {},
   "source": [
    "with the growth of the sample size, the loss graphs on the training set and validation approach each other, i.e. the larger the size of the training sample the more accurate the training result.\n"
   ]
  },
  {
   "cell_type": "markdown",
   "metadata": {},
   "source": [
    "#### Implement the function of adding P-1 new features to the training sample (X2, X3, X4,..., XP).\n"
   ]
  },
  {
   "cell_type": "code",
   "execution_count": 11,
   "metadata": {},
   "outputs": [],
   "source": [
    "def map_feature(x, p):\n",
    "    out = x\n",
    "    \n",
    "    for i in range(2, p + 1):\n",
    "        r = x ** i\n",
    "        out = np.append(out, r, axis=1)\n",
    "\n",
    "    return out"
   ]
  },
  {
   "cell_type": "markdown",
   "metadata": {},
   "source": [
    "#### Since the polynomial of high degree will be used in this problem, it is necessary to normalize the features before training.\n"
   ]
  },
  {
   "cell_type": "code",
   "execution_count": 23,
   "metadata": {},
   "outputs": [],
   "source": [
    "def feature_normalization(X):\n",
    "    norm = (X - X.mean(axis=0)) / X.std(axis=0)\n",
    "    mu = X.mean(axis=0)\n",
    "    sigma = X.std(axis=0)\n",
    "    return norm, mu, sigma"
   ]
  },
  {
   "cell_type": "markdown",
   "metadata": {},
   "source": [
    "#### Train a model with a regularization coefficient of 0 and p = 8.\n"
   ]
  },
  {
   "cell_type": "markdown",
   "metadata": {},
   "source": [
    "X = map_feature(x, 8)\n",
    "X_norm, mu, sigma = feature_normalization(X)\n",
    "X_norm = np.insert(X_norm, 0, 1, axis=1)"
   ]
  },
  {
   "cell_type": "code",
   "execution_count": 103,
   "metadata": {},
   "outputs": [],
   "source": [
    "initial_theta = np.zeros(X_norm.shape[1])\n",
    "theta, costs = gradient_descent_reg(X_norm, y, initial_theta, l=0, alpha=0.3, num_iters=1000)"
   ]
  },
  {
   "cell_type": "markdown",
   "metadata": {},
   "source": [
    "#### Build a graph of the model combined with the training sample, as well as a graph of the learning process. What conclusion can be drawn in this case?\n"
   ]
  },
  {
   "cell_type": "code",
   "execution_count": 84,
   "metadata": {},
   "outputs": [
    {
     "data": {
      "image/png": "[encoded data removed]",
      "text/plain": [
       "<Figure size 432x288 with 1 Axes>"
      ]
     },
     "metadata": {
      "needs_background": "light"
     },
     "output_type": "display_data"
    }
   ],
   "source": [
    "h = X_norm.dot(theta)\n",
    "new_x, new_h = zip(*sorted(zip(x.flatten(), h)))\n",
    "plt.figure()\n",
    "plt.scatter(x.flatten(), y)\n",
    "plt.plot(new_x, new_h, 'r-')\n",
    "plt.xlabel('x')\n",
    "plt.ylabel('y')\n",
    "plt.title('Train data and H(x) line')\n",
    "plt.legend(['H(x)', 'Y'])\n",
    "plt.show()"
   ]
  },
  {
   "cell_type": "code",
   "execution_count": 85,
   "metadata": {},
   "outputs": [
    {
     "data": {
      "image/png": "[encoded data removed]",
      "text/plain": [
       "<Figure size 432x288 with 1 Axes>"
      ]
     },
     "metadata": {
      "needs_background": "light"
     },
     "output_type": "display_data"
    }
   ],
   "source": [
    "plt.figure()\n",
    "plt.plot(costs)\n",
    "plt.xlabel('iteration')\n",
    "plt.ylabel('cost')\n",
    "plt.title('Lerning curve')\n",
    "plt.show()"
   ]
  },
  {
   "cell_type": "markdown",
   "metadata": {},
   "source": [
    "with an increased number of input features, we obtained a polynomial function as close as possible to the original data, the training schedule shows that the gradient descent function converges quite quickly.\n"
   ]
  },
  {
   "cell_type": "markdown",
   "metadata": {},
   "source": [
    "#### Construct graphs from point 10 for models with regularization coefficients 1 and 100. What conclusions can be drawn?\n"
   ]
  },
  {
   "cell_type": "code",
   "execution_count": 96,
   "metadata": {},
   "outputs": [],
   "source": [
    "initial_theta = np.zeros(X_norm.shape[1])\n",
    "theta1, costs1 = gradient_descent_reg(X_norm, y, initial_theta, l=1, alpha=0.1, num_iters=400)"
   ]
  },
  {
   "cell_type": "code",
   "execution_count": 97,
   "metadata": {},
   "outputs": [],
   "source": [
    "initial_theta = np.zeros(X_norm.shape[1])\n",
    "theta2, costs2 = gradient_descent_reg(X_norm, y, initial_theta, l=100, alpha=0.1, num_iters=400)"
   ]
  },
  {
   "cell_type": "code",
   "execution_count": 98,
   "metadata": {},
   "outputs": [
    {
     "data": {
      "image/png": "[encoded data removed]",
      "text/plain": [
       "<Figure size 432x288 with 1 Axes>"
      ]
     },
     "metadata": {
      "needs_background": "light"
     },
     "output_type": "display_data"
    }
   ],
   "source": [
    "h1 = X_norm.dot(theta1)\n",
    "new_x1, new_h1 = zip(*sorted(zip(x.flatten(), h1)))\n",
    "h2 = X_norm.dot(theta2)\n",
    "new_x2, new_h2 = zip(*sorted(zip(x.flatten(), h2)))\n",
    "plt.figure()\n",
    "plt.scatter(x.flatten(), y)\n",
    "plt.plot(new_x1, new_h1, 'r-')\n",
    "plt.plot(new_x2, new_h2, 'g-')\n",
    "plt.xlabel('x')\n",
    "plt.ylabel('y')\n",
    "plt.title('Train data and H(x) line')\n",
    "plt.legend(['L = 1', 'L = 100', 'Y'])\n",
    "plt.show()"
   ]
  },
  {
   "cell_type": "code",
   "execution_count": 99,
   "metadata": {},
   "outputs": [
    {
     "data": {
      "image/png": "[encoded data removed]",
      "text/plain": [
       "<Figure size 432x288 with 1 Axes>"
      ]
     },
     "metadata": {
      "needs_background": "light"
     },
     "output_type": "display_data"
    }
   ],
   "source": [
    "plt.figure()\n",
    "plt.plot(costs1, 'r-')\n",
    "plt.plot(costs2, 'g-')\n",
    "plt.legend(['L = 1', 'L = 100'])\n",
    "plt.xlabel('iteration')\n",
    "plt.ylabel('cost')\n",
    "plt.title('Lerning curve')\n",
    "plt.show()"
   ]
  },
  {
   "cell_type": "markdown",
   "metadata": {},
   "source": [
    "lambda values during regularization help to avoid over-training, and very large lambda values lead to under-learning of the model.\n"
   ]
  },
  {
   "cell_type": "markdown",
   "metadata": {},
   "source": [
    "####  Using validation sampling, select the regularization coefficient that allows you to achieve the lowest error. Process selection reflect with the help graphics (graphs)."
   ]
  },
  {
   "cell_type": "code",
   "execution_count": 100,
   "metadata": {},
   "outputs": [],
   "source": [
    "def find_l(x_train, x_val, y_train, y_val):\n",
    "    X_train = map_feature(x_train, 8)\n",
    "    X_train, _, _ = feature_normalization(X_train)\n",
    "    X_train = np.insert(X_train, 0, 1, axis=1)\n",
    "    X_val = map_feature(x_val, 8)\n",
    "    X_val, _, _ = feature_normalization(X_val)\n",
    "    X_val = np.insert(X_val, 0, 1, axis=1)\n",
    "    l_vals = np.linspace(0, 4, 50)\n",
    "    l_costs = np.empty(shape=(0))\n",
    "    for l in l_vals:\n",
    "        initial_theta = np.zeros(X_train.shape[1])\n",
    "        theta, costs = gradient_descent_reg(X_train, y_train, initial_theta, l=l, alpha=0.2, num_iters=1000)\n",
    "        c = compute_cost_reg(X_val, y_val, theta, l=0)\n",
    "        l_costs = np.append(l_costs, c[0])\n",
    "\n",
    "    plt.figure()\n",
    "    plt.plot(l_vals, l_costs)\n",
    "    plt.xlabel('Lambda')\n",
    "    plt.ylabel('Cost')\n",
    "    plt.show()\n",
    "\n",
    "    ind = l_costs.argmin()\n",
    "    return l_vals[ind]"
   ]
  },
  {
   "cell_type": "code",
   "execution_count": 101,
   "metadata": {},
   "outputs": [
    {
     "data": {
      "image/png": "[encoded data removed]",
      "text/plain": [
       "<Figure size 432x288 with 1 Axes>"
      ]
     },
     "metadata": {
      "needs_background": "light"
     },
     "output_type": "display_data"
    },
    {
     "name": "stdout",
     "output_type": "stream",
     "text": [
      "Best fitting lambda for validation set is 0.4897959183673469\n"
     ]
    }
   ],
   "source": [
    "lb = find_l(x, x_val, y, y_val)\n",
    "print(f'Best fitting lambda for validation set is {lb}')"
   ]
  },
  {
   "cell_type": "markdown",
   "metadata": {},
   "source": [
    "#### Calculate the error (loss) on the control sample.\n"
   ]
  },
  {
   "cell_type": "code",
   "execution_count": 105,
   "metadata": {},
   "outputs": [],
   "source": [
    "x_test = np.array(data['Xtest'])\n",
    "y_test = np.squeeze(data['ytest'])\n",
    "X_test = map_feature(x_test, 8)\n",
    "X_test, _, _ = feature_normalization(X_test)\n",
    "X_test = np.insert(X_test, 0, 1, axis=1)\n",
    "X_train = map_feature(x, 8)\n",
    "X_train, _, _ = feature_normalization(X_train)\n",
    "X_train = np.insert(X_train, 0, 1, axis=1)"
   ]
  },
  {
   "cell_type": "code",
   "execution_count": 108,
   "metadata": {},
   "outputs": [
    {
     "name": "stdout",
     "output_type": "stream",
     "text": [
      "Cost on test set: 11.585832169340772\n"
     ]
    }
   ],
   "source": [
    "initial_theta = np.zeros(X_train.shape[1])\n",
    "theta, _ = gradient_descent_reg(X_train, y, initial_theta, l=lb, alpha=0.3, num_iters=1000)\n",
    "test_cost = compute_cost_reg(X_test, y_test, theta, l=lb)\n",
    "print(f'Cost on test set: {test_cost[0]}')"
   ]
  }
 ],
 "metadata": {
  "kernelspec": {
   "display_name": "Python 3",
   "language": "python",
   "name": "python3"
  },
  "language_info": {
   "codemirror_mode": {
    "name": "ipython",
    "version": 3
   },
   "file_extension": ".py",
   "mimetype": "text/x-python",
   "name": "python",
   "nbconvert_exporter": "python",
   "pygments_lexer": "ipython3",
   "version": "3.6.9"
  }
 },
 "nbformat": 4,
 "nbformat_minor": 4
}
